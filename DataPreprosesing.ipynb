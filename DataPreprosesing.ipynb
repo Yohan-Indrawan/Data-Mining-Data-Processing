{
  "nbformat": 4,
  "nbformat_minor": 0,
  "metadata": {
    "colab": {
      "name": "DataPreprosesing.ipynb",
      "provenance": []
    },
    "kernelspec": {
      "name": "python3",
      "display_name": "Python 3"
    }
  },
  "cells": [
    {
      "cell_type": "code",
      "metadata": {
        "id": "rz83z58S8N5O"
      },
      "source": [
        "import numpy as np\n",
        "import matplotlib.pyplot as plt\n",
        "import pandas as pd"
      ],
      "execution_count": 171,
      "outputs": []
    },
    {
      "cell_type": "code",
      "metadata": {
        "id": "Gv4Dyciw8-aH"
      },
      "source": [
        "dataset = pd.read_csv('Data.csv')\n",
        "x = dataset.iloc[:, :-1].values\n",
        "y = dataset.iloc[:, -1].values"
      ],
      "execution_count": 172,
      "outputs": []
    },
    {
      "cell_type": "code",
      "metadata": {
        "colab": {
          "base_uri": "https://localhost:8080/"
        },
        "id": "OLIsqUZC908C",
        "outputId": "05f7c847-04e4-4663-b0e0-b2b1efc341a6"
      },
      "source": [
        "print(x)"
      ],
      "execution_count": 173,
      "outputs": [
        {
          "output_type": "stream",
          "text": [
            "[['Mei' 44.0 72000.0]\n",
            " ['Juli' 87.0 50000.0]\n",
            " ['Juni' 30.0 44000.0]\n",
            " ['Mei' 78.0 69000.0]\n",
            " ['Juli' 40.0 nan]\n",
            " ['Juni' 25.0 50000.0]\n",
            " ['Mei' nan 62000.0]\n",
            " ['Juni' 48.0 69000.0]\n",
            " ['Juli' 60.0 89000.0]\n",
            " ['Mei' 37.0 37000.0]]\n"
          ],
          "name": "stdout"
        }
      ]
    },
    {
      "cell_type": "code",
      "metadata": {
        "colab": {
          "base_uri": "https://localhost:8080/"
        },
        "id": "cMhELTkz-Slw",
        "outputId": "95b1c24b-5eba-4df5-870b-10120d1bef2a"
      },
      "source": [
        "print(y)"
      ],
      "execution_count": 174,
      "outputs": [
        {
          "output_type": "stream",
          "text": [
            "['Yes' 'Yes' 'No' 'No' 'Yes' 'Yes' 'No' 'Yes' 'No' 'Yes']\n"
          ],
          "name": "stdout"
        }
      ]
    },
    {
      "cell_type": "code",
      "metadata": {
        "id": "5XQboXeaACEr"
      },
      "source": [
        "from sklearn.impute import SimpleImputer\n",
        "imputer = SimpleImputer(missing_values=np.nan, strategy='mean')\n",
        "imputer.fit(x[:, 1:3])\n",
        "x[:, 1:3] = imputer.transform(x[:, 1:3])"
      ],
      "execution_count": 175,
      "outputs": []
    },
    {
      "cell_type": "code",
      "metadata": {
        "colab": {
          "base_uri": "https://localhost:8080/"
        },
        "id": "cFcQoFWyBc4F",
        "outputId": "a72cbe29-b9b6-42a4-93a0-471fa8cb9e74"
      },
      "source": [
        "print(x)"
      ],
      "execution_count": 176,
      "outputs": [
        {
          "output_type": "stream",
          "text": [
            "[['Mei' 44.0 72000.0]\n",
            " ['Juli' 87.0 50000.0]\n",
            " ['Juni' 30.0 44000.0]\n",
            " ['Mei' 78.0 69000.0]\n",
            " ['Juli' 40.0 60222.22222222222]\n",
            " ['Juni' 25.0 50000.0]\n",
            " ['Mei' 49.888888888888886 62000.0]\n",
            " ['Juni' 48.0 69000.0]\n",
            " ['Juli' 60.0 89000.0]\n",
            " ['Mei' 37.0 37000.0]]\n"
          ],
          "name": "stdout"
        }
      ]
    },
    {
      "cell_type": "code",
      "metadata": {
        "id": "VtyId_9xB8NQ"
      },
      "source": [
        "from sklearn.compose import ColumnTransformer\n",
        "from sklearn.preprocessing import OneHotEncoder\n",
        "ct = ColumnTransformer(transformers=[('encoder', OneHotEncoder(), [0])], remainder='passthrough')\n",
        "x = np.array(ct.fit_transform(x))"
      ],
      "execution_count": 177,
      "outputs": []
    },
    {
      "cell_type": "code",
      "metadata": {
        "colab": {
          "base_uri": "https://localhost:8080/"
        },
        "id": "OkIvJdDuDWYt",
        "outputId": "27437733-b477-48c9-dbd8-1cb07750e4cf"
      },
      "source": [
        "print(x)"
      ],
      "execution_count": 178,
      "outputs": [
        {
          "output_type": "stream",
          "text": [
            "[[0.0 0.0 1.0 44.0 72000.0]\n",
            " [1.0 0.0 0.0 87.0 50000.0]\n",
            " [0.0 1.0 0.0 30.0 44000.0]\n",
            " [0.0 0.0 1.0 78.0 69000.0]\n",
            " [1.0 0.0 0.0 40.0 60222.22222222222]\n",
            " [0.0 1.0 0.0 25.0 50000.0]\n",
            " [0.0 0.0 1.0 49.888888888888886 62000.0]\n",
            " [0.0 1.0 0.0 48.0 69000.0]\n",
            " [1.0 0.0 0.0 60.0 89000.0]\n",
            " [0.0 0.0 1.0 37.0 37000.0]]\n"
          ],
          "name": "stdout"
        }
      ]
    },
    {
      "cell_type": "code",
      "metadata": {
        "id": "3Kv3fFr4D3Ax"
      },
      "source": [
        "from sklearn.preprocessing import LabelEncoder\n",
        "le = LabelEncoder()\n",
        "y = le.fit_transform(y)"
      ],
      "execution_count": 179,
      "outputs": []
    },
    {
      "cell_type": "code",
      "metadata": {
        "colab": {
          "base_uri": "https://localhost:8080/"
        },
        "id": "bgKGNlsCEV_P",
        "outputId": "328a8352-4840-4a2c-f334-cc28a8c8ea63"
      },
      "source": [
        "print(y)"
      ],
      "execution_count": 180,
      "outputs": [
        {
          "output_type": "stream",
          "text": [
            "[1 1 0 0 1 1 0 1 0 1]\n"
          ],
          "name": "stdout"
        }
      ]
    },
    {
      "cell_type": "code",
      "metadata": {
        "id": "MOzyp-DkErpk"
      },
      "source": [
        "from sklearn.model_selection import train_test_split\n",
        "x_train, x_test, y_train, y_test = train_test_split(x,y, test_size=0.2, random_state=1)"
      ],
      "execution_count": 181,
      "outputs": []
    },
    {
      "cell_type": "code",
      "metadata": {
        "colab": {
          "base_uri": "https://localhost:8080/"
        },
        "id": "gKHLYJBgFfWR",
        "outputId": "9d32177b-8dc5-4ae3-b647-1653159e7729"
      },
      "source": [
        "print(x_train)"
      ],
      "execution_count": 182,
      "outputs": [
        {
          "output_type": "stream",
          "text": [
            "[[0.0 0.0 1.0 49.888888888888886 62000.0]\n",
            " [1.0 0.0 0.0 40.0 60222.22222222222]\n",
            " [0.0 0.0 1.0 44.0 72000.0]\n",
            " [0.0 0.0 1.0 78.0 69000.0]\n",
            " [1.0 0.0 0.0 87.0 50000.0]\n",
            " [0.0 1.0 0.0 48.0 69000.0]\n",
            " [1.0 0.0 0.0 60.0 89000.0]\n",
            " [0.0 1.0 0.0 25.0 50000.0]]\n"
          ],
          "name": "stdout"
        }
      ]
    },
    {
      "cell_type": "code",
      "metadata": {
        "colab": {
          "base_uri": "https://localhost:8080/"
        },
        "id": "dCzbf3a0Fr1R",
        "outputId": "eb4d7d98-3808-4575-ce74-7e0d7358f951"
      },
      "source": [
        "print(x_test)"
      ],
      "execution_count": 183,
      "outputs": [
        {
          "output_type": "stream",
          "text": [
            "[[0.0 1.0 0.0 30.0 44000.0]\n",
            " [0.0 0.0 1.0 37.0 37000.0]]\n"
          ],
          "name": "stdout"
        }
      ]
    },
    {
      "cell_type": "code",
      "metadata": {
        "colab": {
          "base_uri": "https://localhost:8080/"
        },
        "id": "1C7b7OIOFy6o",
        "outputId": "8b7835ee-8702-4a2f-cd0e-c35f007e68fa"
      },
      "source": [
        "print(y_train)"
      ],
      "execution_count": 184,
      "outputs": [
        {
          "output_type": "stream",
          "text": [
            "[0 1 1 0 1 1 0 1]\n"
          ],
          "name": "stdout"
        }
      ]
    },
    {
      "cell_type": "code",
      "metadata": {
        "colab": {
          "base_uri": "https://localhost:8080/"
        },
        "id": "ISViu99TF6Qh",
        "outputId": "9ad6171f-e1f9-4418-afa7-70974cb53cd1"
      },
      "source": [
        "print(y_test)"
      ],
      "execution_count": 185,
      "outputs": [
        {
          "output_type": "stream",
          "text": [
            "[0 1]\n"
          ],
          "name": "stdout"
        }
      ]
    },
    {
      "cell_type": "code",
      "metadata": {
        "id": "p6tza8sqH273"
      },
      "source": [
        "from sklearn.preprocessing import StandardScaler\n",
        "sc = StandardScaler()\n",
        "x_train[:, 4:] = sc.fit_transform(x_train[:, 4:])\n",
        "x_test[:, 4:] = sc.transform(x_test[:, 4:])"
      ],
      "execution_count": 186,
      "outputs": []
    },
    {
      "cell_type": "code",
      "metadata": {
        "colab": {
          "base_uri": "https://localhost:8080/"
        },
        "id": "kMwIb_9iIuUQ",
        "outputId": "94b69ae1-8474-471b-d4a2-43f1ad9e46be"
      },
      "source": [
        "print(x_train)"
      ],
      "execution_count": 187,
      "outputs": [
        {
          "output_type": "stream",
          "text": [
            "[[0.0 0.0 1.0 49.888888888888886 -0.264268289484419]\n",
            " [1.0 0.0 0.0 40.0 -0.41328300778400334]\n",
            " [0.0 0.0 1.0 44.0 0.5739395009507416]\n",
            " [0.0 0.0 1.0 78.0 0.3224771638201935]\n",
            " [1.0 0.0 0.0 87.0 -1.2701176380066117]\n",
            " [0.0 1.0 0.0 48.0 0.3224771638201935]\n",
            " [1.0 0.0 0.0 60.0 1.9988927446905147]\n",
            " [0.0 1.0 0.0 25.0 -1.2701176380066117]]\n"
          ],
          "name": "stdout"
        }
      ]
    },
    {
      "cell_type": "code",
      "metadata": {
        "colab": {
          "base_uri": "https://localhost:8080/"
        },
        "id": "IoO0iolCJv9n",
        "outputId": "592f5384-04e8-4465-810a-a346d9987655"
      },
      "source": [
        "print(x_test)"
      ],
      "execution_count": 188,
      "outputs": [
        {
          "output_type": "stream",
          "text": [
            "[[0.0 1.0 0.0 30.0 -1.7730423122677081]\n",
            " [0.0 0.0 1.0 37.0 -2.3597877655723205]]\n"
          ],
          "name": "stdout"
        }
      ]
    }
  ]
}